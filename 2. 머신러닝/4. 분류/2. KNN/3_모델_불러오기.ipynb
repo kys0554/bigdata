{
  "nbformat": 4,
  "nbformat_minor": 0,
  "metadata": {
    "colab": {
      "name": "3. 모델 불러오기.ipynb",
      "provenance": []
    },
    "kernelspec": {
      "name": "python3",
      "display_name": "Python 3"
    },
    "language_info": {
      "name": "python"
    }
  },
  "cells": [
    {
      "cell_type": "markdown",
      "metadata": {
        "id": "K7ErEDDghU69"
      },
      "source": [
        "#1. 데이터 읽어들이기"
      ]
    },
    {
      "cell_type": "code",
      "metadata": {
        "colab": {
          "base_uri": "https://localhost:8080/"
        },
        "id": "3qcqqxD3etVb",
        "outputId": "8dbfc0d0-e36f-4e65-9cd5-05786a892b5a"
      },
      "source": [
        "from google.colab import drive\n",
        "drive.mount('/content/drive')"
      ],
      "execution_count": null,
      "outputs": [
        {
          "output_type": "stream",
          "text": [
            "Mounted at /content/drive\n"
          ],
          "name": "stdout"
        }
      ]
    },
    {
      "cell_type": "code",
      "metadata": {
        "colab": {
          "base_uri": "https://localhost:8080/",
          "height": 118
        },
        "id": "feL2BLdvgNFJ",
        "outputId": "d4fa3fa4-6c62-42f9-dcf7-461a658ac968"
      },
      "source": [
        "import pandas as pd\n",
        "\n",
        "filepath='/content/drive/MyDrive/9. K-최근접 이웃/model/X_test.csv'\n",
        "X_test = pd.read_csv(filepath)\n",
        "X_test.head(1)"
      ],
      "execution_count": null,
      "outputs": [
        {
          "output_type": "execute_result",
          "data": {
            "text/html": [
              "<div>\n",
              "<style scoped>\n",
              "    .dataframe tbody tr th:only-of-type {\n",
              "        vertical-align: middle;\n",
              "    }\n",
              "\n",
              "    .dataframe tbody tr th {\n",
              "        vertical-align: top;\n",
              "    }\n",
              "\n",
              "    .dataframe thead th {\n",
              "        text-align: right;\n",
              "    }\n",
              "</style>\n",
              "<table border=\"1\" class=\"dataframe\">\n",
              "  <thead>\n",
              "    <tr style=\"text-align: right;\">\n",
              "      <th></th>\n",
              "      <th>Unnamed: 0</th>\n",
              "      <th>0</th>\n",
              "      <th>1</th>\n",
              "      <th>2</th>\n",
              "      <th>3</th>\n",
              "      <th>4</th>\n",
              "      <th>5</th>\n",
              "      <th>6</th>\n",
              "      <th>7</th>\n",
              "      <th>8</th>\n",
              "      <th>9</th>\n",
              "      <th>10</th>\n",
              "      <th>11</th>\n",
              "      <th>12</th>\n",
              "      <th>13</th>\n",
              "      <th>14</th>\n",
              "      <th>15</th>\n",
              "      <th>16</th>\n",
              "      <th>17</th>\n",
              "      <th>18</th>\n",
              "      <th>19</th>\n",
              "      <th>20</th>\n",
              "      <th>21</th>\n",
              "      <th>22</th>\n",
              "      <th>23</th>\n",
              "      <th>24</th>\n",
              "      <th>25</th>\n",
              "      <th>26</th>\n",
              "      <th>27</th>\n",
              "      <th>28</th>\n",
              "      <th>29</th>\n",
              "    </tr>\n",
              "  </thead>\n",
              "  <tbody>\n",
              "    <tr>\n",
              "      <th>0</th>\n",
              "      <td>465</td>\n",
              "      <td>0.296228</td>\n",
              "      <td>0.352384</td>\n",
              "      <td>0.297699</td>\n",
              "      <td>0.169417</td>\n",
              "      <td>0.272727</td>\n",
              "      <td>0.315686</td>\n",
              "      <td>0.236645</td>\n",
              "      <td>0.140805</td>\n",
              "      <td>0.273232</td>\n",
              "      <td>0.302443</td>\n",
              "      <td>0.06138</td>\n",
              "      <td>0.100181</td>\n",
              "      <td>0.123074</td>\n",
              "      <td>0.031767</td>\n",
              "      <td>0.109325</td>\n",
              "      <td>0.483056</td>\n",
              "      <td>0.194015</td>\n",
              "      <td>0.25914</td>\n",
              "      <td>0.103816</td>\n",
              "      <td>0.250066</td>\n",
              "      <td>0.267165</td>\n",
              "      <td>0.359275</td>\n",
              "      <td>0.321679</td>\n",
              "      <td>0.134757</td>\n",
              "      <td>0.32312</td>\n",
              "      <td>0.521301</td>\n",
              "      <td>0.523642</td>\n",
              "      <td>0.466323</td>\n",
              "      <td>0.252316</td>\n",
              "      <td>0.458219</td>\n",
              "    </tr>\n",
              "  </tbody>\n",
              "</table>\n",
              "</div>"
            ],
            "text/plain": [
              "   Unnamed: 0         0         1  ...        27        28        29\n",
              "0         465  0.296228  0.352384  ...  0.466323  0.252316  0.458219\n",
              "\n",
              "[1 rows x 31 columns]"
            ]
          },
          "metadata": {
            "tags": []
          },
          "execution_count": 4
        }
      ]
    },
    {
      "cell_type": "markdown",
      "metadata": {
        "id": "DvLYUcSDgtlM"
      },
      "source": [
        "> 실행 결과 'Unnamed: 0' feature 가 기존의 index 정보인 것을 알 수 있다. 이를 다시 index로 변경하자."
      ]
    },
    {
      "cell_type": "code",
      "metadata": {
        "colab": {
          "base_uri": "https://localhost:8080/",
          "height": 148
        },
        "id": "7EEasQKWg49G",
        "outputId": "a35dadba-886c-4a13-ebb9-d4204f603686"
      },
      "source": [
        "X_test.set_index('Unnamed: 0', inplace=True)\n",
        "X_test.head(1)"
      ],
      "execution_count": null,
      "outputs": [
        {
          "output_type": "execute_result",
          "data": {
            "text/html": [
              "<div>\n",
              "<style scoped>\n",
              "    .dataframe tbody tr th:only-of-type {\n",
              "        vertical-align: middle;\n",
              "    }\n",
              "\n",
              "    .dataframe tbody tr th {\n",
              "        vertical-align: top;\n",
              "    }\n",
              "\n",
              "    .dataframe thead th {\n",
              "        text-align: right;\n",
              "    }\n",
              "</style>\n",
              "<table border=\"1\" class=\"dataframe\">\n",
              "  <thead>\n",
              "    <tr style=\"text-align: right;\">\n",
              "      <th></th>\n",
              "      <th>0</th>\n",
              "      <th>1</th>\n",
              "      <th>2</th>\n",
              "      <th>3</th>\n",
              "      <th>4</th>\n",
              "      <th>5</th>\n",
              "      <th>6</th>\n",
              "      <th>7</th>\n",
              "      <th>8</th>\n",
              "      <th>9</th>\n",
              "      <th>10</th>\n",
              "      <th>11</th>\n",
              "      <th>12</th>\n",
              "      <th>13</th>\n",
              "      <th>14</th>\n",
              "      <th>15</th>\n",
              "      <th>16</th>\n",
              "      <th>17</th>\n",
              "      <th>18</th>\n",
              "      <th>19</th>\n",
              "      <th>20</th>\n",
              "      <th>21</th>\n",
              "      <th>22</th>\n",
              "      <th>23</th>\n",
              "      <th>24</th>\n",
              "      <th>25</th>\n",
              "      <th>26</th>\n",
              "      <th>27</th>\n",
              "      <th>28</th>\n",
              "      <th>29</th>\n",
              "    </tr>\n",
              "    <tr>\n",
              "      <th>Unnamed: 0</th>\n",
              "      <th></th>\n",
              "      <th></th>\n",
              "      <th></th>\n",
              "      <th></th>\n",
              "      <th></th>\n",
              "      <th></th>\n",
              "      <th></th>\n",
              "      <th></th>\n",
              "      <th></th>\n",
              "      <th></th>\n",
              "      <th></th>\n",
              "      <th></th>\n",
              "      <th></th>\n",
              "      <th></th>\n",
              "      <th></th>\n",
              "      <th></th>\n",
              "      <th></th>\n",
              "      <th></th>\n",
              "      <th></th>\n",
              "      <th></th>\n",
              "      <th></th>\n",
              "      <th></th>\n",
              "      <th></th>\n",
              "      <th></th>\n",
              "      <th></th>\n",
              "      <th></th>\n",
              "      <th></th>\n",
              "      <th></th>\n",
              "      <th></th>\n",
              "      <th></th>\n",
              "    </tr>\n",
              "  </thead>\n",
              "  <tbody>\n",
              "    <tr>\n",
              "      <th>465</th>\n",
              "      <td>0.296228</td>\n",
              "      <td>0.352384</td>\n",
              "      <td>0.297699</td>\n",
              "      <td>0.169417</td>\n",
              "      <td>0.272727</td>\n",
              "      <td>0.315686</td>\n",
              "      <td>0.236645</td>\n",
              "      <td>0.140805</td>\n",
              "      <td>0.273232</td>\n",
              "      <td>0.302443</td>\n",
              "      <td>0.06138</td>\n",
              "      <td>0.100181</td>\n",
              "      <td>0.123074</td>\n",
              "      <td>0.031767</td>\n",
              "      <td>0.109325</td>\n",
              "      <td>0.483056</td>\n",
              "      <td>0.194015</td>\n",
              "      <td>0.25914</td>\n",
              "      <td>0.103816</td>\n",
              "      <td>0.250066</td>\n",
              "      <td>0.267165</td>\n",
              "      <td>0.359275</td>\n",
              "      <td>0.321679</td>\n",
              "      <td>0.134757</td>\n",
              "      <td>0.32312</td>\n",
              "      <td>0.521301</td>\n",
              "      <td>0.523642</td>\n",
              "      <td>0.466323</td>\n",
              "      <td>0.252316</td>\n",
              "      <td>0.458219</td>\n",
              "    </tr>\n",
              "  </tbody>\n",
              "</table>\n",
              "</div>"
            ],
            "text/plain": [
              "                   0         1         2  ...        27        28        29\n",
              "Unnamed: 0                                ...                              \n",
              "465         0.296228  0.352384  0.297699  ...  0.466323  0.252316  0.458219\n",
              "\n",
              "[1 rows x 30 columns]"
            ]
          },
          "metadata": {
            "tags": []
          },
          "execution_count": 5
        }
      ]
    },
    {
      "cell_type": "markdown",
      "metadata": {
        "id": "MR04jFlLhTuz"
      },
      "source": [
        "#2. 모델 읽어 들이기"
      ]
    },
    {
      "cell_type": "code",
      "metadata": {
        "colab": {
          "base_uri": "https://localhost:8080/"
        },
        "id": "UBVwnXDUhdbY",
        "outputId": "b44a9dfa-d0ac-4ae5-eebe-303f67d6c978"
      },
      "source": [
        "from sklearn.externals import joblib\n",
        "save_model_filepath = '/content/drive/MyDrive/9. K-최근접 이웃/model/breast_cancer_model_v1.pkl'\n",
        "clf_from_joblib = joblib.load(save_model_filepath)\n",
        "clf_from_joblib.predict(X_test)"
      ],
      "execution_count": null,
      "outputs": [
        {
          "output_type": "stream",
          "text": [
            "/usr/local/lib/python3.7/dist-packages/sklearn/externals/joblib/__init__.py:15: FutureWarning: sklearn.externals.joblib is deprecated in 0.21 and will be removed in 0.23. Please import this functionality directly from joblib, which can be installed with: pip install joblib. If this warning is raised when loading pickled models, you may need to re-serialize those models with scikit-learn 0.21+.\n",
            "  warnings.warn(msg, category=FutureWarning)\n"
          ],
          "name": "stderr"
        },
        {
          "output_type": "execute_result",
          "data": {
            "text/plain": [
              "array([1, 0, 1, 0, 0, 0, 1, 0, 1, 1, 0, 0, 1, 0, 0, 0, 1, 1, 1, 1, 0, 1,\n",
              "       1, 1, 1, 1, 1, 0, 0, 1, 1, 0, 1, 1, 1, 1, 1, 1, 0, 1, 1, 1, 0, 1,\n",
              "       1, 0, 0, 1, 1, 1, 0, 1, 1, 1, 0, 1, 1, 0, 1, 1, 1, 1, 0, 1, 1, 0,\n",
              "       1, 0, 1, 1, 1, 1, 0, 1, 1, 0, 0, 0, 1, 0, 0, 1, 0, 1, 1, 1, 0, 0,\n",
              "       1, 1, 1, 1, 1, 1, 1, 1, 1, 1, 0, 1, 0, 0, 0, 0, 0, 1, 1, 1, 0, 0,\n",
              "       1, 0, 1, 1])"
            ]
          },
          "metadata": {
            "tags": []
          },
          "execution_count": 6
        }
      ]
    }
  ]
}