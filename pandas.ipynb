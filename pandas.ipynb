{
  "nbformat": 4,
  "nbformat_minor": 0,
  "metadata": {
    "colab": {
      "name": "pandas.ipynb",
      "provenance": [],
      "collapsed_sections": [],
      "toc_visible": true,
      "authorship_tag": "ABX9TyMTyFSuH78P0UsV2AZr0BZ0",
      "include_colab_link": true
    },
    "kernelspec": {
      "name": "python3",
      "display_name": "Python 3"
    },
    "language_info": {
      "name": "python"
    }
  },
  "cells": [
    {
      "cell_type": "markdown",
      "metadata": {
        "id": "view-in-github",
        "colab_type": "text"
      },
      "source": [
        "<a href=\"https://colab.research.google.com/github/kys0554/bigdata/blob/main/pandas.ipynb\" target=\"_parent\"><img src=\"https://colab.research.google.com/assets/colab-badge.svg\" alt=\"Open In Colab\"/></a>"
      ]
    },
    {
      "cell_type": "markdown",
      "source": [
        "# 1\\. Pandas 데이터 구조"
      ],
      "metadata": {
        "id": "5Fakw-57xtzF"
      }
    },
    {
      "cell_type": "markdown",
      "source": [
        "# 2\\. Pandas 데이터 입출"
      ],
      "metadata": {
        "id": "BfBep3fMxuiP"
      }
    },
    {
      "cell_type": "markdown",
      "source": [
        "#3\\. Pandas 데이터 다루기"
      ],
      "metadata": {
        "id": "S2gTP07fxu2w"
      }
    },
    {
      "cell_type": "markdown",
      "source": [
        "#4\\. Pandas 함수\n"
      ],
      "metadata": {
        "id": "APPmM960rK9N"
      }
    }
  ]
}