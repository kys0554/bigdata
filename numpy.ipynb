{
  "nbformat": 4,
  "nbformat_minor": 0,
  "metadata": {
    "colab": {
      "name": "numpy.ipynb의 사본",
      "provenance": [],
      "collapsed_sections": [],
      "toc_visible": true,
      "authorship_tag": "ABX9TyPCGuJ/MNJfmx4hmGKQTosj",
      "include_colab_link": true
    },
    "kernelspec": {
      "name": "python3",
      "display_name": "Python 3"
    },
    "language_info": {
      "name": "python"
    }
  },
  "cells": [
    {
      "cell_type": "markdown",
      "metadata": {
        "id": "view-in-github",
        "colab_type": "text"
      },
      "source": [
        "<a href=\"https://colab.research.google.com/github/kys0554/bigdata/blob/main/numpy.ipynb\" target=\"_parent\"><img src=\"https://colab.research.google.com/assets/colab-badge.svg\" alt=\"Open In Colab\"/></a>"
      ]
    },
    {
      "cell_type": "markdown",
      "source": [
        ""
      ],
      "metadata": {
        "id": "j3701rBxK4cF"
      }
    },
    {
      "cell_type": "markdown",
      "source": [
        "1장 NumPy 개요\n"
      ],
      "metadata": {
        "id": "Kso7HIkPK-oA"
      }
    },
    {
      "cell_type": "markdown",
      "source": [
        "# 1장 NumPy 개요"
      ],
      "metadata": {
        "id": "yu5IXOoMK_ga"
      }
    },
    {
      "cell_type": "markdown",
      "source": [
        "NumPy는 Pandas, Scikit-learn, Tensorflow 등 데이터 사이언스 분야에서 사용되는 라이브러리들의 토대가 되는 라이브러리이다. NumPy 그 자체로는 높은 수준의 데이터 분석 기능을 제공하지 않지만 NumPy를 활용한 데이터를 Python상에서 표현하고 다룰 줄 알아야만 데이터 분석이라는 그 이후 단계로 나아갈 수 있다. 데이터 분석의 토대가 될 NumPy의 기본 기능들과 더 빠르고 효율적인 연산을 위한 NumPy 활용법들을 다루겠다,."
      ],
      "metadata": {
        "id": "hc1ZiK7wLuXL"
      }
    },
    {
      "cell_type": "markdown",
      "source": [
        "## 1\\. 데이터 과학에서 다차원 배열의 필요성"
      ],
      "metadata": {
        "id": "5nDFJWSLM5yq"
      }
    },
    {
      "cell_type": "markdown",
      "source": [
        "### 1) 숫자 자료형\n",
        "파이썬에서는 데이터를 수자형 변수에 저장할 수 있다.\n",
        "세명의 학생들로 이루어진 반이 있고 이 학생들의 수학점수를 각각의 숫자형 변수에 저장하는 경우 아래처럼 처리 할 수 있다.*이탤릭체 텍스트*"
      ],
      "metadata": {
        "id": "zRLi5iJGNR9e"
      }
    },
    {
      "cell_type": "code",
      "source": [
        "mathScore1 = 11\n",
        "mathScore2 = 12\n",
        "mathScore3 = 13"
      ],
      "metadata": {
        "id": "gJ5AfqGRNd_6"
      },
      "execution_count": null,
      "outputs": []
    },
    {
      "cell_type": "markdown",
      "source": [
        "점수들의 합과 평균을 아래처럼 구할 수 있다."
      ],
      "metadata": {
        "id": "3cgheqz2NneI"
      }
    },
    {
      "cell_type": "code",
      "source": [
        "mathScoreSum = mathScore1 + mathScore2 + mathScore3\n",
        "mathScoreAvg = mathScoreSum / 3\n",
        "\n",
        "print(\"수학 점수 합 : {}\".format(mathScoreSum))\n",
        "print(\"수학 점수 평균 : {}\". format(mathScoreAvg))"
      ],
      "metadata": {
        "colab": {
          "base_uri": "https://localhost:8080/"
        },
        "id": "2K-0CxybNvGf",
        "outputId": "901da684-3364-468f-b723-56b52f49350f"
      },
      "execution_count": null,
      "outputs": [
        {
          "output_type": "stream",
          "name": "stdout",
          "text": [
            "수학 점수 합 : 36\n",
            "수학 점수 평균 : 12.0\n"
          ]
        }
      ]
    },
    {
      "cell_type": "markdown",
      "source": [
        "만약 새로운 학생이 전학을 와서 시험을 쳤고 이 학생의 성적을 추가한 점수들의 합과 평균을 구하려면 어떻게 해야 할까?\n",
        "새로운 변수를 추가해야 한다."
      ],
      "metadata": {
        "id": "jEoAJgOwODcd"
      }
    },
    {
      "cell_type": "code",
      "source": [
        "mathScore4 = 14"
      ],
      "metadata": {
        "id": "kdPIIF7xS5BZ"
      },
      "execution_count": null,
      "outputs": []
    },
    {
      "cell_type": "markdown",
      "source": [
        "그리고 합과 평균을 구하는 코드 역시 수정 해야 한다."
      ],
      "metadata": {
        "id": "LuP3gnHFTYKk"
      }
    },
    {
      "cell_type": "code",
      "source": [
        "mathScoreSum = mathScore1 + mathScore2 + mathScore3 + mathScore4\n",
        "mathScoreAvg = mathScoreSum / 4\n",
        "\n",
        "print(\"수학점수 합 : {}\".format(mathScoreSum))\n",
        "print(\"수학점수 평균 : {}\".format(mathScoreAvg))"
      ],
      "metadata": {
        "colab": {
          "base_uri": "https://localhost:8080/"
        },
        "id": "Sfm5nrgkTcfl",
        "outputId": "b9be4eb6-38b1-4222-b80f-3661f54147b3"
      },
      "execution_count": null,
      "outputs": [
        {
          "output_type": "stream",
          "name": "stdout",
          "text": [
            "수학점수 합 : 50\n",
            "수학점수 평균 : 12.5\n"
          ]
        }
      ]
    },
    {
      "cell_type": "markdown",
      "source": [
        "### 2) 리스트 자료형\n",
        "추가된 데이터를 새로 선언해 주는 것은 어쩔 수 없다 하더라도 합과 평균을 구하는 코드를 매번 변경하는 것을 매우 비효율적인 일이다.\n",
        "리스트 자료형에 데이터를 저장하면 이 문제를 해결 할 수 있다.\n",
        "다섯명의 학생들로 이루어진 반이 있고 이 학생들의 수학점수를 리스트에 저장하는 경우 아래처럼 처리 할 수 있다\n"
      ],
      "metadata": {
        "id": "cJeMmGkwTsw6"
      }
    },
    {
      "cell_type": "code",
      "source": [
        "mathScoreList = [11,12,13]\n",
        "print(mathScoreList)"
      ],
      "metadata": {
        "colab": {
          "base_uri": "https://localhost:8080/"
        },
        "id": "nVzRB_ILUIKO",
        "outputId": "9520b0fd-99df-494e-b26a-c1688254b168"
      },
      "execution_count": null,
      "outputs": [
        {
          "output_type": "stream",
          "name": "stdout",
          "text": [
            "[11, 12, 13]\n"
          ]
        }
      ]
    },
    {
      "cell_type": "markdown",
      "source": [
        "점수들의 합과 평균은 아래처럼 구할 수 있다."
      ],
      "metadata": {
        "id": "JV-j2aRNUQt9"
      }
    },
    {
      "cell_type": "code",
      "source": [
        "listMathScoreSum = 0\n",
        "listMathScoreAvg = 0\n",
        "\n",
        "for e in mathScoreList:\n",
        "  listMathScoreSum += e\n",
        "\n",
        "listMathScoreAvg = listMathScoreSum / len(mathScoreList)\n",
        "\n",
        "print(\"수학점수 합 : {}\".format(listMathScoreSum))\n",
        "print(\"수학점수 평균 : {}\".format(listMathScoreAvg))"
      ],
      "metadata": {
        "colab": {
          "base_uri": "https://localhost:8080/"
        },
        "id": "ryM44MYQUT2E",
        "outputId": "9e618278-9f0b-48aa-e198-94d1ab4ca41f"
      },
      "execution_count": null,
      "outputs": [
        {
          "output_type": "stream",
          "name": "stdout",
          "text": [
            "수학점수 합 : 36\n",
            "수학점수 평균 : 12.0\n"
          ]
        }
      ]
    },
    {
      "cell_type": "markdown",
      "source": [
        "만약 새로운 학생이 전학을 와서 시험을 쳤고 이 학생의 성적을 추가한 점수들의 합과 평균을 구하려면 어떻게 해야 할까?\n",
        "\n",
        "기존의 리스트에 새로운 데이터를 추가하면 된다."
      ],
      "metadata": {
        "id": "3J8mY-APUqG5"
      }
    },
    {
      "cell_type": "code",
      "source": [
        "listMathScoreSum = 0\n",
        "listMathScoreAverage = 0\n",
        "\t\n",
        "for e in mathScoreList:\n",
        "  listMathScoreSum += e\n",
        "\t\t\n",
        "listMathScoreAvg = listMathScoreSum / len(mathScoreList)\n",
        "\t\n",
        "print(\"수학점수 합 : {}\".format(listMathScoreSum))\n",
        "print(\"수학점수 평균 : {}\".format(listMathScoreAvg))"
      ],
      "metadata": {
        "colab": {
          "base_uri": "https://localhost:8080/"
        },
        "id": "daGCUACGU28e",
        "outputId": "119a938a-4cef-468f-970c-488169681703"
      },
      "execution_count": null,
      "outputs": [
        {
          "output_type": "stream",
          "name": "stdout",
          "text": [
            "수학점수 합 : 36\n",
            "수학점수 평균 : 12.0\n"
          ]
        }
      ]
    },
    {
      "cell_type": "code",
      "source": [
        "만약 시험 문제의 오류가 발견되어 모두 정답처리를 해 모든 학생의 점수를 1점씩 올려줘야하는 상황에서는 어떻게 해야 할까?\n",
        "\n",
        "반복문이나 List Comprehension 같은 방법이 있습니다."
      ],
      "metadata": {
        "id": "mnTXByoLVRX2"
      },
      "execution_count": null,
      "outputs": []
    },
    {
      "cell_type": "code",
      "source": [
        "# 반복문\n",
        "mathScoreList2 = []\n",
        "for e in mathScoreList:\n",
        "  mathScoreList2.append(e+1)\n",
        "print(mathScoreList2)"
      ],
      "metadata": {
        "colab": {
          "base_uri": "https://localhost:8080/"
        },
        "id": "WSC9aZ-GVPId",
        "outputId": "04e93e23-aa9d-4d83-c9ea-c8f27ecd2ba7"
      },
      "execution_count": null,
      "outputs": [
        {
          "output_type": "stream",
          "name": "stdout",
          "text": [
            "[12, 13, 14]\n"
          ]
        }
      ]
    },
    {
      "cell_type": "code",
      "source": [
        "# List Comprehension\n",
        "mathScoreList3 = [e+1 for e in mathScoreList]\n",
        "\n",
        "print(mathScoreList3)"
      ],
      "metadata": {
        "colab": {
          "base_uri": "https://localhost:8080/"
        },
        "id": "koEUHI-GVnld",
        "outputId": "a2f7c82e-3585-4b77-da11-df245c8f7b49"
      },
      "execution_count": null,
      "outputs": [
        {
          "output_type": "stream",
          "name": "stdout",
          "text": [
            "[12, 13, 14]\n"
          ]
        }
      ]
    },
    {
      "cell_type": "markdown",
      "source": [
        "## 2\\. 파이썬 기본 자료형으로 구현한 다차원 배열"
      ],
      "metadata": {
        "id": "Vw7xFQMaVxpx"
      }
    },
    {
      "cell_type": "markdown",
      "source": [
        "### 1) Nested List(중첩리스트)\n",
        "1반의 점수가 11,12,13\n",
        "2반의 점수가 21,22,23\n",
        "3반의 점수가 31,32,33 점이라고 한다면 리스트 안에 리스트를 넣어 위 데이터를 아래처럼 나타낼 수 있다."
      ],
      "metadata": {
        "id": "bso-rXHYWNEV"
      }
    },
    {
      "cell_type": "code",
      "source": [
        "mathScoreNestedList = [ [11,12,13],[21,22,23],[31,32,33] ]\n",
        "print(mathScoreNestedList)"
      ],
      "metadata": {
        "colab": {
          "base_uri": "https://localhost:8080/"
        },
        "id": "ZFGX0zdDWOec",
        "outputId": "3eccc4e8-54a3-4f6f-d76c-a6150e63267f"
      },
      "execution_count": null,
      "outputs": [
        {
          "output_type": "stream",
          "name": "stdout",
          "text": [
            "[[11, 12, 13], [21, 22, 23], [31, 32, 33]]\n"
          ]
        }
      ]
    },
    {
      "cell_type": "markdown",
      "source": [
        "각 원소에 1을 더하는 코드는 아래와 같다"
      ],
      "metadata": {
        "id": "knuJjQg_WVPl"
      }
    },
    {
      "cell_type": "code",
      "source": [
        "mathScoreNestedList2 = []\n",
        "for list in mathScoreNestedList:\n",
        "  tempList = []\n",
        "  for e in list:\n",
        "\t  tempList.append(e+1)\n",
        "  mathScoreNestedList2.append(tempList)\n",
        "print(mathScoreNestedList2)"
      ],
      "metadata": {
        "colab": {
          "base_uri": "https://localhost:8080/"
        },
        "id": "Y3GIWNRKVwYh",
        "outputId": "042d7cb8-b570-4f6e-b498-1860ea276258"
      },
      "execution_count": null,
      "outputs": [
        {
          "output_type": "stream",
          "name": "stdout",
          "text": [
            "[[12, 13, 14], [22, 23, 24], [32, 33, 34]]\n"
          ]
        }
      ]
    },
    {
      "cell_type": "markdown",
      "source": [
        "문제점\n",
        "1차원에서 2차원으로 데이터의 차원이 증가하니 반복문도 하나 더 사용해야 한다.\n",
        "데이터의 차원이 증가할 수록 코드는 복잡해질 수 밖에 없다."
      ],
      "metadata": {
        "id": "OOm0kmS9W70S"
      }
    },
    {
      "cell_type": "markdown",
      "source": [
        "### 2) NumPy 로 구현한 다차원 배열\n",
        "NumPy를 사용하면 다차원 배열을 효율적으로 다룰 수 있다. \n",
        "import numpy as np 형태로 import 하는 것이 일반적이다."
      ],
      "metadata": {
        "id": "7dL_MrzbXLEn"
      }
    },
    {
      "cell_type": "code",
      "source": [
        "import numpy as np\n",
        "mathScoreNdarray = np.array(mathScoreNestedList)\n",
        "\t\n",
        "print(mathScoreNdarray)"
      ],
      "metadata": {
        "colab": {
          "base_uri": "https://localhost:8080/",
          "height": 229
        },
        "id": "Bb9EjqqHXKxA",
        "outputId": "748bc3b8-f0d9-4d4b-e873-7f4fdd25f9cb"
      },
      "execution_count": null,
      "outputs": [
        {
          "output_type": "error",
          "ename": "NameError",
          "evalue": "ignored",
          "traceback": [
            "\u001b[0;31m---------------------------------------------------------------------------\u001b[0m",
            "\u001b[0;31mNameError\u001b[0m                                 Traceback (most recent call last)",
            "\u001b[0;32m<ipython-input-3-661a482c4151>\u001b[0m in \u001b[0;36m<module>\u001b[0;34m()\u001b[0m\n\u001b[1;32m      1\u001b[0m \u001b[0;32mimport\u001b[0m \u001b[0mnumpy\u001b[0m \u001b[0;32mas\u001b[0m \u001b[0mnp\u001b[0m\u001b[0;34m\u001b[0m\u001b[0;34m\u001b[0m\u001b[0m\n\u001b[0;32m----> 2\u001b[0;31m \u001b[0mmathScoreNdarray\u001b[0m \u001b[0;34m=\u001b[0m \u001b[0mnp\u001b[0m\u001b[0;34m.\u001b[0m\u001b[0marray\u001b[0m\u001b[0;34m(\u001b[0m\u001b[0mmathScoreNestedList\u001b[0m\u001b[0;34m)\u001b[0m\u001b[0;34m\u001b[0m\u001b[0;34m\u001b[0m\u001b[0m\n\u001b[0m\u001b[1;32m      3\u001b[0m \u001b[0;34m\u001b[0m\u001b[0m\n\u001b[1;32m      4\u001b[0m \u001b[0mprint\u001b[0m\u001b[0;34m(\u001b[0m\u001b[0mmathScoreNdarray\u001b[0m\u001b[0;34m)\u001b[0m\u001b[0;34m\u001b[0m\u001b[0;34m\u001b[0m\u001b[0m\n",
            "\u001b[0;31mNameError\u001b[0m: name 'mathScoreNestedList' is not defined"
          ]
        }
      ]
    },
    {
      "cell_type": "markdown",
      "source": [
        "mathScoreNdarray 에 각 원소에 1을 더하려면"
      ],
      "metadata": {
        "id": "bxLxsRy2XmJQ"
      }
    },
    {
      "cell_type": "code",
      "source": [
        "mathScoreNdarray + 1"
      ],
      "metadata": {
        "colab": {
          "base_uri": "https://localhost:8080/"
        },
        "id": "h2v7rjDpXkfj",
        "outputId": "57e03539-b306-48a3-a7d0-6a1dcfdba045"
      },
      "execution_count": null,
      "outputs": [
        {
          "output_type": "execute_result",
          "data": {
            "text/plain": [
              "array([[12, 13, 14],\n",
              "       [22, 23, 24],\n",
              "       [32, 33, 34]])"
            ]
          },
          "metadata": {},
          "execution_count": 28
        }
      ]
    },
    {
      "cell_type": "markdown",
      "source": [
        "NumPy에 구현된 메서드를 활용해 합이나 평균도 쉽게 구할 수 있다."
      ],
      "metadata": {
        "id": "ypYm9t7wXwZC"
      }
    },
    {
      "cell_type": "code",
      "source": [
        "# 전체 합 구하기\n",
        "np.sum(mathScoreNdarray)"
      ],
      "metadata": {
        "colab": {
          "base_uri": "https://localhost:8080/"
        },
        "id": "3ygTyP6dWo1S",
        "outputId": "57ce809c-a225-4cde-e772-70282301f888"
      },
      "execution_count": null,
      "outputs": [
        {
          "output_type": "execute_result",
          "data": {
            "text/plain": [
              "198"
            ]
          },
          "metadata": {},
          "execution_count": 31
        }
      ]
    },
    {
      "cell_type": "code",
      "source": [
        "# 전체 평균 구하기\n",
        "np.average(mathScoreNdarray)\n",
        "np.mean(mathScoreNdarray)"
      ],
      "metadata": {
        "colab": {
          "base_uri": "https://localhost:8080/"
        },
        "id": "VcZ6x6QmYTPZ",
        "outputId": "033cb4c7-c4d4-481a-eb22-b9147c7ebb42"
      },
      "execution_count": null,
      "outputs": [
        {
          "output_type": "execute_result",
          "data": {
            "text/plain": [
              "22.0"
            ]
          },
          "metadata": {},
          "execution_count": 32
        }
      ]
    },
    {
      "cell_type": "code",
      "source": [
        "# 열의 평균 구하기\n",
        "np.average(mathScoreNdarray, axis=0)\n",
        "np.mean(mathScoreNdarray, axis=0)"
      ],
      "metadata": {
        "colab": {
          "base_uri": "https://localhost:8080/"
        },
        "id": "0IXSNZ79YVh1",
        "outputId": "8c0436f9-8977-4a85-b89e-2948a69d1ee7"
      },
      "execution_count": null,
      "outputs": [
        {
          "output_type": "execute_result",
          "data": {
            "text/plain": [
              "array([21., 22., 23.])"
            ]
          },
          "metadata": {},
          "execution_count": 33
        }
      ]
    },
    {
      "cell_type": "code",
      "source": [
        "# 행의 평균 구하기\n",
        "np.average(mathScoreNdarray, axis=1)\n",
        "np.mean(mathScoreNdarray, axis=1)"
      ],
      "metadata": {
        "colab": {
          "base_uri": "https://localhost:8080/"
        },
        "id": "RL31nFMlYXMl",
        "outputId": "72ec3c25-9737-4c29-c0e0-a54bc250108c"
      },
      "execution_count": null,
      "outputs": [
        {
          "output_type": "execute_result",
          "data": {
            "text/plain": [
              "array([12., 22., 32.])"
            ]
          },
          "metadata": {},
          "execution_count": 34
        }
      ]
    },
    {
      "cell_type": "markdown",
      "source": [
        "### 3) 파이썬 기본 자료형과 NumPy 비교"
      ],
      "metadata": {
        "id": "bKYzlcmBYYTs"
      }
    },
    {
      "cell_type": "code",
      "source": [
        "import time\n",
        "class Timer(object):\n",
        "  def __init__(self, name=None):\n",
        "    self.name = name\n",
        "  def __enter__(self):\n",
        "    self.tstart = time.time()\n",
        "  def __exit__(self, type, value, traceback):\n",
        "    if self.name:\n",
        "      print('[%s]'%self.name)\n",
        "    print('Elapsed: %s' % (time.time() - self.tstart))\n",
        "    \n",
        "\n",
        "with Timer('여기에 이름을 입력하세요'):\n",
        "  time.sleep(1)"
      ],
      "metadata": {
        "colab": {
          "base_uri": "https://localhost:8080/"
        },
        "id": "tjevstPxYNkw",
        "outputId": "3d0e4027-bb20-4ed4-c74f-8ff4ec9ae21e"
      },
      "execution_count": null,
      "outputs": [
        {
          "output_type": "stream",
          "name": "stdout",
          "text": [
            "[여기에 이름을 입력하세요]\n",
            "Elapsed: 1.002556324005127\n"
          ]
        }
      ]
    },
    {
      "cell_type": "code",
      "source": [
        "rows = 2 #행\n",
        "cols = 2 #열\n",
        "sampleRand2Darray = np.random.rand(rows, cols)\n",
        "sampleRand2List = sampleRand2Darray.tolist()\n",
        "\n",
        "sampleRand2Darray "
      ],
      "metadata": {
        "colab": {
          "base_uri": "https://localhost:8080/"
        },
        "id": "vp4rxUy9tPcM",
        "outputId": "24047ac5-f059-4333-99b1-73a1b8574be5"
      },
      "execution_count": null,
      "outputs": [
        {
          "output_type": "execute_result",
          "data": {
            "text/plain": [
              "array([[0.63721616, 0.91872179],\n",
              "       [0.48917283, 0.54070602]])"
            ]
          },
          "metadata": {},
          "execution_count": 67
        }
      ]
    },
    {
      "cell_type": "code",
      "source": [
        "sampleRand2List"
      ],
      "metadata": {
        "colab": {
          "base_uri": "https://localhost:8080/"
        },
        "id": "cua902_ltnvo",
        "outputId": "dde8ee8b-877b-45e8-ffc6-fcea6575de7a"
      },
      "execution_count": null,
      "outputs": [
        {
          "output_type": "execute_result",
          "data": {
            "text/plain": [
              "[[0.6372161594624591, 0.9187217903376302],\n",
              " [0.489172829608997, 0.5407060175780776]]"
            ]
          },
          "metadata": {},
          "execution_count": 68
        }
      ]
    },
    {
      "cell_type": "code",
      "source": [
        "with Timer('파이썬 기본 자료형 사용 - 모든 원소의 합 구하기'):\n",
        "  sum = 0\n",
        "  for list in sampleRand2List:\n",
        "    for e in list :\n",
        "      sum += e\n",
        "      \n",
        "with Timer('파이썬 기본 자료형 사용 - 모든 원소에 1 더하기'):\n",
        "  sampleRand2List2 = []\n",
        "  \n",
        "  for list in sampleRand2List:\n",
        "    templist = []\n",
        "    \n",
        "    for e in list:\n",
        "      templist.append(e+1)\n",
        "    sampleRand2List2.append(templist)\n",
        "    \n",
        "print(\"-----------------------------------------------------\")\n",
        "\n",
        "\n",
        "with Timer('NumPy 사용 - 모든 원소의 합 구하기'):\n",
        "  sum = np.sum(sampleRand2Darray)\n",
        "with Timer('NumPy 사용 - 모든 원소에 1 더하기'):\n",
        "  sampleRand2Darray2 = sampleRand2Darray + 1"
      ],
      "metadata": {
        "colab": {
          "base_uri": "https://localhost:8080/"
        },
        "id": "aIBa0n0itiJi",
        "outputId": "0a11400e-caa9-46c9-8fae-5060deff134d"
      },
      "execution_count": null,
      "outputs": [
        {
          "output_type": "stream",
          "name": "stdout",
          "text": [
            "[파이썬 기본 자료형 사용 - 모든 원소의 합 구하기]\n",
            "Elapsed: 0.00011277198791503906\n",
            "[파이썬 기본 자료형 사용 - 모든 원소에 1 더하기]\n",
            "Elapsed: 3.3855438232421875e-05\n",
            "-----------------------------------------------------\n",
            "[NumPy 사용 - 모든 원소의 합 구하기]\n",
            "Elapsed: 0.00010633468627929688\n",
            "[NumPy 사용 - 모든 원소에 1 더하기]\n",
            "Elapsed: 5.269050598144531e-05\n"
          ]
        }
      ]
    },
    {
      "cell_type": "code",
      "source": [
        "rows = 1000 #행\n",
        "cols = 1000 #열\n",
        "sampleRand2Darray = np.random.rand(rows, cols)\n",
        "sampleRand2list = sampleRand2Darray.tolist()\n",
        "\n",
        "with Timer('파이썬 기본 자료형 사용 - 모든 원소의 합 구하기'):\n",
        "  sum = 0\n",
        "  for list in sampleRand2List:\n",
        "    for e in list :\n",
        "      sum += e\n",
        "      \n",
        "with Timer('파이썬 기본 자료형 사용 - 모든 원소에 1 더하기'):\n",
        "  sampleRand2List2 = []\n",
        "  \n",
        "  for list in sampleRand2List:\n",
        "    templist = []\n",
        "    \n",
        "    for e in list:\n",
        "      templist.append(e+1)\n",
        "    sampleRand2List2.append(templist)\n",
        "    \n",
        "print(\"-----------------------------------------------------\")\n",
        "\n",
        "\n",
        "with Timer('NumPy 사용 - 모든 원소의 합 구하기'):\n",
        "  sum = np.sum(sampleRand2Darray)\n",
        "with Timer('NumPy 사용 - 모든 원소에 1 더하기'):\n",
        "  sampleRand2Darray2 = sampleRand2Darray + 1"
      ],
      "metadata": {
        "colab": {
          "base_uri": "https://localhost:8080/"
        },
        "id": "C0wbY54QuZhy",
        "outputId": "260244f6-b004-496c-c76a-bb881f1c707c"
      },
      "execution_count": null,
      "outputs": [
        {
          "output_type": "stream",
          "name": "stdout",
          "text": [
            "[파이썬 기본 자료형 사용 - 모든 원소의 합 구하기]\n",
            "Elapsed: 0.0001456737518310547\n",
            "[파이썬 기본 자료형 사용 - 모든 원소에 1 더하기]\n",
            "Elapsed: 3.4332275390625e-05\n",
            "-----------------------------------------------------\n",
            "[NumPy 사용 - 모든 원소의 합 구하기]\n",
            "Elapsed: 0.002886056900024414\n",
            "[NumPy 사용 - 모든 원소에 1 더하기]\n",
            "Elapsed: 0.0019147396087646484\n"
          ]
        }
      ]
    },
    {
      "cell_type": "markdown",
      "source": [
        "NumPy 장점\n",
        "  - 코어 부분이 C로 구현되어 동일한 연산을 하더라도 Python에 비해 속도가 빠름\n",
        "  - 라이브러리에 구현되어 있는 함수들을 활용해 짧고 간결한 코드 작성 가능\n",
        "  - 효율적인 메모리 사용이 가능하도록 구현됨"
      ],
      "metadata": {
        "id": "lSMX3YtGuy5e"
      }
    },
    {
      "cell_type": "markdown",
      "source": [
        "### 4) 참고 ndarray 가 list 보다 빠른 이유\n",
        "Ndarray vs list 구조\n",
        "\n",
        "![image.png](data:image/png;base64,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)"
      ],
      "metadata": {
        "id": "kZuH-KgKvikg"
      }
    },
    {
      "cell_type": "markdown",
      "source": [
        "파이썬 list 가 느린 이유\n",
        "  - 파이썬 리스트는 결국 포인터의 배열\n",
        "  - 경우에 따라서 각각 객체가 메모리 여기 저기 흩어져 있음\n",
        "  - 그러므로 캐시 활용이 어려움"
      ],
      "metadata": {
        "id": "7KvNj9-wv02N"
      }
    },
    {
      "cell_type": "markdown",
      "source": [
        "NumPy ndarray가 빠른 이유\n",
        "  - Ndarray는 타입을 명시하여 원소의 배열로 데이터를 유지\n",
        "  - 다차원데이터도 연속된 메모리 공강이 할당됨\n",
        "  - 많은 연산이 dimensions 과 strides 를 잘 활용하면 효율적으로 가능\n",
        "    - 가령 transpose 는 strides를 바꾸는 것으로 거의 공짜\n",
        "  - Ndarray 구현 방식을 떠올리면 어떻게 성능을 낼 수 있는지 상상 가능\n",
        "  "
      ],
      "metadata": {
        "id": "KG4gH8ISYi30"
      }
    },
    {
      "cell_type": "code",
      "source": [
        "x = np.array([[1,2],[3,4]], dtype=np.int8)\n",
        "y = x.T"
      ],
      "metadata": {
        "id": "diylQJuqYxjT"
      },
      "execution_count": null,
      "outputs": []
    },
    {
      "cell_type": "code",
      "source": [
        "x"
      ],
      "metadata": {
        "colab": {
          "base_uri": "https://localhost:8080/"
        },
        "id": "BKYpm9XCZMFJ",
        "outputId": "ff3937af-ecd5-4c9d-d41d-5e092821a6ba"
      },
      "execution_count": null,
      "outputs": [
        {
          "output_type": "execute_result",
          "data": {
            "text/plain": [
              "array([[1, 2],\n",
              "       [3, 4]], dtype=int8)"
            ]
          },
          "metadata": {},
          "execution_count": 75
        }
      ]
    },
    {
      "cell_type": "code",
      "source": [
        "y"
      ],
      "metadata": {
        "colab": {
          "base_uri": "https://localhost:8080/"
        },
        "id": "fek0yya5ZNHV",
        "outputId": "333e03c9-807f-4278-e186-9454137a6400"
      },
      "execution_count": null,
      "outputs": [
        {
          "output_type": "execute_result",
          "data": {
            "text/plain": [
              "array([[1, 3],\n",
              "       [2, 4]], dtype=int8)"
            ]
          },
          "metadata": {},
          "execution_count": 76
        }
      ]
    },
    {
      "cell_type": "code",
      "source": [
        "print(x.strides)\n",
        "print(y.strides)"
      ],
      "metadata": {
        "colab": {
          "base_uri": "https://localhost:8080/"
        },
        "id": "y9mqIfEqZN-2",
        "outputId": "cc2ba151-043e-419c-aeb1-a9e00c6e3ea6"
      },
      "execution_count": null,
      "outputs": [
        {
          "output_type": "stream",
          "name": "stdout",
          "text": [
            "(2, 1)\n",
            "(1, 2)\n"
          ]
        }
      ]
    },
    {
      "cell_type": "markdown",
      "source": [
        "# 2장 다차원 배열 생성"
      ],
      "metadata": {
        "id": "-t_kj4ezLGLJ"
      }
    },
    {
      "cell_type": "markdown",
      "source": [
        "## 1\\. 다차원 배열 생성1\n",
        "명시적으로 값을 입력해 다차원 배열을 만드는 방법을 알아본다"
      ],
      "metadata": {
        "id": "rftPzPV6aYkT"
      }
    },
    {
      "cell_type": "markdown",
      "source": [
        "### 1) 다차원 배열의 자료형\n",
        "\n",
        "![image.png](data:image/png;base64,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)"
      ],
      "metadata": {
        "id": "Yt1ALcNMahQy"
      }
    },
    {
      "cell_type": "markdown",
      "source": [
        "다차원 배열의 원소는 위와 같은 데이터 타입을 가질 수 있다.\n",
        "다차원 배열의 원소는 동일한 데이터 타입을 가져야 한다."
      ],
      "metadata": {
        "id": "3ghjQyfGbY8T"
      }
    },
    {
      "cell_type": "markdown",
      "source": [
        "### 2) 직접 원소를 입력해서 다차원 배열 생성하기\n",
        "\n",
        "np.array() 를 사용해 다차원 배열을 생성할 수 있다."
      ],
      "metadata": {
        "id": "AmIT8qMSbinh"
      }
    },
    {
      "cell_type": "markdown",
      "source": [
        "**bool**\n",
        "\n",
        "boolean 데이터를 입력해서 다차원 배열을 생성해 보자"
      ],
      "metadata": {
        "id": "fq9UugDdbwHY"
      }
    },
    {
      "cell_type": "code",
      "source": [
        "boolArray = np.array([True, False, True, True, False])\n",
        "boolArray"
      ],
      "metadata": {
        "colab": {
          "base_uri": "https://localhost:8080/"
        },
        "id": "npd615omb3tG",
        "outputId": "7d01e9ec-3f4a-4b65-bede-a5984f48c605"
      },
      "execution_count": null,
      "outputs": [
        {
          "output_type": "execute_result",
          "data": {
            "text/plain": [
              "array([ True, False,  True,  True, False])"
            ]
          },
          "metadata": {},
          "execution_count": 79
        }
      ]
    },
    {
      "cell_type": "code",
      "source": [
        "boolArray.dtype"
      ],
      "metadata": {
        "colab": {
          "base_uri": "https://localhost:8080/"
        },
        "id": "bdicypRDcEaX",
        "outputId": "346cd02f-b60a-4ffa-d9ed-f1614f34d3fb"
      },
      "execution_count": null,
      "outputs": [
        {
          "output_type": "execute_result",
          "data": {
            "text/plain": [
              "dtype('bool')"
            ]
          },
          "metadata": {},
          "execution_count": 80
        }
      ]
    },
    {
      "cell_type": "markdown",
      "source": [
        "**number**"
      ],
      "metadata": {
        "id": "ETBhqB8GcMCr"
      }
    },
    {
      "cell_type": "markdown",
      "source": [
        "number 데이터를 입력해서 다차원 배열을 생성해 보자.\n",
        "\n",
        "정수형, 부호 없는 정수형, 실수형, 복소수형이 있다.\n",
        "\n",
        "**정수형**\n",
        "\n",
        "정수형의 default data type은 'int64' 입니다."
      ],
      "metadata": {
        "id": "NKuqhKL-a7rz"
      }
    },
    {
      "cell_type": "code",
      "source": [
        "intArray = np.array([[1,2],[3,4]])\n",
        "\n",
        "intArray"
      ],
      "metadata": {
        "colab": {
          "base_uri": "https://localhost:8080/"
        },
        "id": "DO8uGkp0awZ1",
        "outputId": "b073a951-3572-4810-9e3a-8c12fcdda567"
      },
      "execution_count": null,
      "outputs": [
        {
          "output_type": "execute_result",
          "data": {
            "text/plain": [
              "array([[1, 2],\n",
              "       [3, 4]])"
            ]
          },
          "metadata": {},
          "execution_count": 5
        }
      ]
    },
    {
      "cell_type": "code",
      "source": [
        "intArray.dtype"
      ],
      "metadata": {
        "colab": {
          "base_uri": "https://localhost:8080/"
        },
        "id": "ebkTLd-ErldP",
        "outputId": "1226526b-3ddf-4881-a795-bebc5ceacd15"
      },
      "execution_count": null,
      "outputs": [
        {
          "output_type": "execute_result",
          "data": {
            "text/plain": [
              "dtype('int64')"
            ]
          },
          "metadata": {},
          "execution_count": 7
        }
      ]
    },
    {
      "cell_type": "markdown",
      "source": [
        "**부호없는 정수형**\n",
        "\n",
        "부호 없는 정수형의 default data type은 'uint64' 입니다"
      ],
      "metadata": {
        "id": "SBTC7-zZrmIL"
      }
    },
    {
      "cell_type": "code",
      "source": [
        "uIntArray = np.array([ [1,2],[3,4] ], dtype='uint')\n",
        "uIntArray"
      ],
      "metadata": {
        "colab": {
          "base_uri": "https://localhost:8080/"
        },
        "id": "WT-0WL8Srr2T",
        "outputId": "c8c07372-f638-4891-cad6-805a5a789079"
      },
      "execution_count": null,
      "outputs": [
        {
          "output_type": "execute_result",
          "data": {
            "text/plain": [
              "array([[1, 2],\n",
              "       [3, 4]], dtype=uint64)"
            ]
          },
          "metadata": {},
          "execution_count": 10
        }
      ]
    },
    {
      "cell_type": "code",
      "source": [
        "uIntArray.dtype"
      ],
      "metadata": {
        "colab": {
          "base_uri": "https://localhost:8080/"
        },
        "id": "uHZJGcZDrzDq",
        "outputId": "33295734-33ca-46f1-8090-2b40ebd7e331"
      },
      "execution_count": null,
      "outputs": [
        {
          "output_type": "execute_result",
          "data": {
            "text/plain": [
              "dtype('uint64')"
            ]
          },
          "metadata": {},
          "execution_count": 12
        }
      ]
    },
    {
      "cell_type": "markdown",
      "source": [
        "**실수형**\n",
        "\n",
        "실수형의 default data type은 'float64'입니다."
      ],
      "metadata": {
        "id": "gjMZYhrPr3Wy"
      }
    },
    {
      "cell_type": "code",
      "source": [
        "floatArray = np.array([ [1.1, 2.2], [3.3, 4.4] ])\n",
        "floatArray"
      ],
      "metadata": {
        "colab": {
          "base_uri": "https://localhost:8080/"
        },
        "id": "4ASLLCXDsA2X",
        "outputId": "95511795-227e-4bf6-832f-b8eae7c1b77f"
      },
      "execution_count": null,
      "outputs": [
        {
          "output_type": "execute_result",
          "data": {
            "text/plain": [
              "array([[1.1, 2.2],\n",
              "       [3.3, 4.4]])"
            ]
          },
          "metadata": {},
          "execution_count": 13
        }
      ]
    },
    {
      "cell_type": "code",
      "source": [
        "floatArray.dtype"
      ],
      "metadata": {
        "colab": {
          "base_uri": "https://localhost:8080/"
        },
        "id": "rT0S_tDJsNW9",
        "outputId": "71fd85c8-df5d-408a-e38a-6e8b43ee4714"
      },
      "execution_count": null,
      "outputs": [
        {
          "output_type": "execute_result",
          "data": {
            "text/plain": [
              "dtype('float64')"
            ]
          },
          "metadata": {},
          "execution_count": 15
        }
      ]
    },
    {
      "cell_type": "markdown",
      "source": [
        "**형변환**\n",
        "\n",
        "데이터가 정수로 입력되더라도 data type을 실수형으로 명시한다면 실수형으로 자동 형 변환이 일어 납니다."
      ],
      "metadata": {
        "id": "zvyYtnPUsN_p"
      }
    },
    {
      "cell_type": "code",
      "source": [
        "floatArray2 = np.array([[1,2], [3,4]], dtype=\"float64\")\n",
        "floatArray2"
      ],
      "metadata": {
        "colab": {
          "base_uri": "https://localhost:8080/"
        },
        "id": "DHrmUWjFsUdl",
        "outputId": "72e71998-5415-4268-b5a0-e2f1fddc6409"
      },
      "execution_count": null,
      "outputs": [
        {
          "output_type": "execute_result",
          "data": {
            "text/plain": [
              "array([[1., 2.],\n",
              "       [3., 4.]])"
            ]
          },
          "metadata": {},
          "execution_count": 19
        }
      ]
    },
    {
      "cell_type": "code",
      "source": [
        ""
      ],
      "metadata": {
        "id": "ekt64UBVsgLk"
      },
      "execution_count": null,
      "outputs": []
    },
    {
      "cell_type": "code",
      "source": [
        "floatArray2.dtype"
      ],
      "metadata": {
        "colab": {
          "base_uri": "https://localhost:8080/"
        },
        "id": "sezSVd3zsY9z",
        "outputId": "0d1afa82-c6d9-4d60-b3d8-7aa1aa081d16"
      },
      "execution_count": null,
      "outputs": [
        {
          "output_type": "execute_result",
          "data": {
            "text/plain": [
              "dtype('float64')"
            ]
          },
          "metadata": {},
          "execution_count": 20
        }
      ]
    },
    {
      "cell_type": "markdown",
      "source": [
        "**더나은 방법**\n",
        "\n",
        "1.0, 2.0, 3.0, 4.0 이라는 실수형 데이터를 가지는 다차원 배열을 만들고 싶다면, 아래 방법이 더 나은 코딩 표준이다. "
      ],
      "metadata": {
        "id": "r0s5t1XWsZTD"
      }
    },
    {
      "cell_type": "code",
      "source": [
        "floatArray3 = np.array( [ [1.,2.], [3.,4.] ])\n",
        "floatArray3"
      ],
      "metadata": {
        "colab": {
          "base_uri": "https://localhost:8080/"
        },
        "id": "0BZW2p7esvRB",
        "outputId": "c40ececd-c4c5-4a1f-ebf7-666b6f27650d"
      },
      "execution_count": null,
      "outputs": [
        {
          "output_type": "execute_result",
          "data": {
            "text/plain": [
              "array([[1., 2.],\n",
              "       [3., 4.]])"
            ]
          },
          "metadata": {},
          "execution_count": 22
        }
      ]
    },
    {
      "cell_type": "code",
      "source": [
        "floatArray3.dtype"
      ],
      "metadata": {
        "colab": {
          "base_uri": "https://localhost:8080/"
        },
        "id": "I87L3INes1G4",
        "outputId": "ff8ebc95-eb4c-4c02-a37a-80eb626f3b76"
      },
      "execution_count": null,
      "outputs": [
        {
          "output_type": "execute_result",
          "data": {
            "text/plain": [
              "dtype('float64')"
            ]
          },
          "metadata": {},
          "execution_count": 23
        }
      ]
    },
    {
      "cell_type": "markdown",
      "source": [
        "**참고**\n",
        "\n",
        "정수형에서 실수형으로의 형변환 과정은 데이터 손실이 일어나지 않아 문제될 부분이 없지만 반대의 경우에는 문제가 발생할 수가 있다."
      ],
      "metadata": {
        "id": "xRb4E2UBs1kQ"
      }
    },
    {
      "cell_type": "code",
      "source": [
        "intArray2 = np.array( [ [1.1, 2.2] , [3.3, 4.4] ], dtype ='int')\n",
        "\n",
        "intArray2"
      ],
      "metadata": {
        "colab": {
          "base_uri": "https://localhost:8080/"
        },
        "id": "Dwog_ZK17es9",
        "outputId": "681d9b2e-5247-4ccc-c9f9-45d53b0569b5"
      },
      "execution_count": null,
      "outputs": [
        {
          "output_type": "execute_result",
          "data": {
            "text/plain": [
              "array([[1, 2],\n",
              "       [3, 4]])"
            ]
          },
          "metadata": {},
          "execution_count": 24
        }
      ]
    },
    {
      "cell_type": "markdown",
      "source": [
        "실수가 정수로 형변환되며 데이터의 손실이 발생한다. 즉 입력한 데이터와 다차원 배열내의 데이터가 다르다."
      ],
      "metadata": {
        "id": "0VEfq0to7jQc"
      }
    },
    {
      "cell_type": "markdown",
      "source": [
        "**복소수형**\n",
        "\n",
        "복소수형의 default data type은 'complex128' 입니다."
      ],
      "metadata": {
        "id": "L-KToU357sHb"
      }
    },
    {
      "cell_type": "code",
      "source": [
        "complexArray = np.array( [ 1+1j, 2+2j, 3+3j, 4+4j, 5+5j])\n",
        "complexArray"
      ],
      "metadata": {
        "colab": {
          "base_uri": "https://localhost:8080/"
        },
        "id": "V8cpxVRD7oNj",
        "outputId": "1a4cd43f-1c7f-4640-c264-fa2e5a35dc8f"
      },
      "execution_count": null,
      "outputs": [
        {
          "output_type": "execute_result",
          "data": {
            "text/plain": [
              "array([1.+1.j, 2.+2.j, 3.+3.j, 4.+4.j, 5.+5.j])"
            ]
          },
          "metadata": {},
          "execution_count": 25
        }
      ]
    },
    {
      "cell_type": "code",
      "source": [
        "complexArray.dtype"
      ],
      "metadata": {
        "colab": {
          "base_uri": "https://localhost:8080/"
        },
        "id": "Ml0ZBoCs73fh",
        "outputId": "7d5e9f29-ee9b-4705-a275-a1bb6008500c"
      },
      "execution_count": null,
      "outputs": [
        {
          "output_type": "execute_result",
          "data": {
            "text/plain": [
              "dtype('complex128')"
            ]
          },
          "metadata": {},
          "execution_count": 27
        }
      ]
    },
    {
      "cell_type": "markdown",
      "source": [
        "![image.png](data:image/png;base64,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)"
      ],
      "metadata": {
        "id": "ipMpCLHl736J"
      }
    },
    {
      "cell_type": "markdown",
      "source": [
        "### 3) 파일에서 데이터를 입력 받아 다차원 배열 생성하기\n",
        "Np.genfromtxt() 을 이용하여 파일에 저장된 데이터를 입력받아 다차원 배열을 생성할 수 있다. (genfromtxt() 는 제너레이션 프롬 텍스트)\n",
        "\n",
        "하지만 사용할 일은 많지 않다. 그 이유는\n",
        "  - NumPy ndarray는 동일한 데이터타입만을 가질 수 있다.\n",
        "  - 대부분 데이터 파일에는 하나의 데이터 타입만 있는게 아니라 정수, 실 수, 문자열이 섞여 있다.\n",
        "\n",
        "파일에서 데이터를 읽어올때 NumPy의 genfromtxt() 보단 Pandas의 read_csv()나 read_excel()을 주로 사용한다."
      ],
      "metadata": {
        "id": "REe8gIi47-HY"
      }
    },
    {
      "cell_type": "code",
      "source": [
        "#구글 드라이브의 파일을 가져오고 싶은 경우\n",
        "import numpy as np\n",
        "from google.colab import drive\n",
        "drive.mount('/content/drive')\n",
        "\n",
        "\n",
        "fromCSVArray = np.genfromtxt('/content/drive/MyDrive/test.csv', delimiter=\",\")\n",
        "\n",
        "fromCSVArray"
      ],
      "metadata": {
        "colab": {
          "base_uri": "https://localhost:8080/"
        },
        "id": "7Dj020NB8Uel",
        "outputId": "ed191be6-f3c8-4367-8e15-08723fb3a72d"
      },
      "execution_count": null,
      "outputs": [
        {
          "output_type": "stream",
          "name": "stdout",
          "text": [
            "Drive already mounted at /content/drive; to attempt to forcibly remount, call drive.mount(\"/content/drive\", force_remount=True).\n"
          ]
        },
        {
          "output_type": "execute_result",
          "data": {
            "text/plain": [
              "array([[1., 2., 3.],\n",
              "       [4., 5., 6.],\n",
              "       [7., 8., 9.]])"
            ]
          },
          "metadata": {},
          "execution_count": 17
        }
      ]
    },
    {
      "cell_type": "markdown",
      "source": [
        "## 2\\. 다차원 배열 생성2\n",
        "\n",
        "NumPy에 구현되어 있는 함수를 활용해 다차원 배열을 만드는 방법을 알아보자.\n",
        "\n",
        "https://numpy.org/doc/stable/reference/routines.array-creation.html\n"
      ],
      "metadata": {
        "id": "bnjBby18SBie"
      }
    },
    {
      "cell_type": "markdown",
      "source": [
        "###1) Numpy.empty\n",
        "\n",
        "항목을 초기화하지 않고 지정된 도형 및 유형의 새 배열을 반환한다."
      ],
      "metadata": {
        "id": "FLB0L3sMSR6L"
      }
    },
    {
      "cell_type": "code",
      "source": [
        "np.empty((2,3))"
      ],
      "metadata": {
        "id": "6JUkByHfSfG4",
        "outputId": "53b4ac43-e94c-4658-fe6a-fb58c027f899",
        "colab": {
          "base_uri": "https://localhost:8080/"
        }
      },
      "execution_count": null,
      "outputs": [
        {
          "output_type": "execute_result",
          "data": {
            "text/plain": [
              "array([[4.67006583e-310, 0.00000000e+000, 0.00000000e+000],\n",
              "       [0.00000000e+000, 0.00000000e+000, 0.00000000e+000]])"
            ]
          },
          "metadata": {},
          "execution_count": 19
        }
      ]
    },
    {
      "cell_type": "code",
      "source": [
        "a = np.array( [ [1,2,3], [4,5,6], [7,8,9] ])\n",
        "\t\n",
        "a"
      ],
      "metadata": {
        "id": "yWQpYEV5S41u",
        "outputId": "03d20adc-5ecd-40cc-cb47-0c4f55b872ee",
        "colab": {
          "base_uri": "https://localhost:8080/"
        }
      },
      "execution_count": null,
      "outputs": [
        {
          "output_type": "execute_result",
          "data": {
            "text/plain": [
              "array([[1, 2, 3],\n",
              "       [4, 5, 6],\n",
              "       [7, 8, 9]])"
            ]
          },
          "metadata": {},
          "execution_count": 20
        }
      ]
    },
    {
      "cell_type": "code",
      "source": [
        "np.empty_like(a)"
      ],
      "metadata": {
        "id": "rn28IOfDTBh1",
        "outputId": "ceb3bcf3-9e8b-46f6-e3ee-eb5de7bfefb4",
        "colab": {
          "base_uri": "https://localhost:8080/"
        }
      },
      "execution_count": null,
      "outputs": [
        {
          "output_type": "execute_result",
          "data": {
            "text/plain": [
              "array([[4607182418800017408, 4611686018427387904, 4613937818241073152],\n",
              "       [4616189618054758400, 4617315517961601024, 4618441417868443648],\n",
              "       [4619567317775286272, 4620693217682128896, 4621256167635550208]])"
            ]
          },
          "metadata": {},
          "execution_count": 22
        }
      ]
    },
    {
      "cell_type": "markdown",
      "source": [
        "###2) Numpy.zeros\n",
        "0으로 채워진 지정된 도형 및 유형의 새 배열을 반환합니다."
      ],
      "metadata": {
        "id": "hpZdmkxdTFD8"
      }
    },
    {
      "cell_type": "code",
      "source": [
        "np.zeros((2,3))"
      ],
      "metadata": {
        "id": "ySBVAvX3TPyb",
        "outputId": "1e549536-c41a-4a7f-bb56-c5978dfb32ca",
        "colab": {
          "base_uri": "https://localhost:8080/"
        }
      },
      "execution_count": null,
      "outputs": [
        {
          "output_type": "execute_result",
          "data": {
            "text/plain": [
              "array([[0., 0., 0.],\n",
              "       [0., 0., 0.]])"
            ]
          },
          "metadata": {},
          "execution_count": 25
        }
      ]
    },
    {
      "cell_type": "code",
      "source": [
        "np.zeros((2,3), dtype=int)"
      ],
      "metadata": {
        "id": "Q7mfgTdsTbyx",
        "outputId": "859fce86-e14b-4653-8ff1-5bf363ab54b4",
        "colab": {
          "base_uri": "https://localhost:8080/"
        }
      },
      "execution_count": null,
      "outputs": [
        {
          "output_type": "execute_result",
          "data": {
            "text/plain": [
              "array([[0, 0, 0],\n",
              "       [0, 0, 0]])"
            ]
          },
          "metadata": {},
          "execution_count": 26
        }
      ]
    },
    {
      "cell_type": "code",
      "source": [
        "np.zeros_like(a)"
      ],
      "metadata": {
        "id": "4JaXAAPXTauB",
        "outputId": "895dd7a0-b085-4854-86c2-82e040dbe993",
        "colab": {
          "base_uri": "https://localhost:8080/"
        }
      },
      "execution_count": null,
      "outputs": [
        {
          "output_type": "execute_result",
          "data": {
            "text/plain": [
              "array([[0, 0, 0],\n",
              "       [0, 0, 0],\n",
              "       [0, 0, 0]])"
            ]
          },
          "metadata": {},
          "execution_count": 27
        }
      ]
    },
    {
      "cell_type": "markdown",
      "source": [
        "###3) Numpy.ones\n",
        "1로 채워진 지정된 도형 및 유형의 새 배열을 반환합니다."
      ],
      "metadata": {
        "id": "Gp0ri9-PTDDd"
      }
    },
    {
      "cell_type": "code",
      "source": [
        "np.ones((2,3))"
      ],
      "metadata": {
        "id": "M_uH1fZETpBA",
        "outputId": "43c2fe49-d24e-4ca0-f572-79bfc612465b",
        "colab": {
          "base_uri": "https://localhost:8080/"
        }
      },
      "execution_count": null,
      "outputs": [
        {
          "output_type": "execute_result",
          "data": {
            "text/plain": [
              "array([[1., 1., 1.],\n",
              "       [1., 1., 1.]])"
            ]
          },
          "metadata": {},
          "execution_count": 31
        }
      ]
    },
    {
      "cell_type": "code",
      "source": [
        "np.ones((2,3), dtype=int)"
      ],
      "metadata": {
        "id": "daueNs9JTwo2",
        "outputId": "f76ec2b0-aa6a-4a27-9e65-9a84b994ac17",
        "colab": {
          "base_uri": "https://localhost:8080/"
        }
      },
      "execution_count": null,
      "outputs": [
        {
          "output_type": "execute_result",
          "data": {
            "text/plain": [
              "array([[1, 1, 1],\n",
              "       [1, 1, 1]])"
            ]
          },
          "metadata": {},
          "execution_count": 29
        }
      ]
    },
    {
      "cell_type": "code",
      "source": [
        "np.ones_like(a)"
      ],
      "metadata": {
        "id": "9mdXoxp4TyWV",
        "outputId": "b76d332f-c902-4081-86ca-40354f8906d4",
        "colab": {
          "base_uri": "https://localhost:8080/"
        }
      },
      "execution_count": null,
      "outputs": [
        {
          "output_type": "execute_result",
          "data": {
            "text/plain": [
              "array([[1, 1, 1],\n",
              "       [1, 1, 1],\n",
              "       [1, 1, 1]])"
            ]
          },
          "metadata": {},
          "execution_count": 30
        }
      ]
    },
    {
      "cell_type": "markdown",
      "source": [
        "###4) Numpy.identity\n",
        "단위행렬 배열을 반환합니다."
      ],
      "metadata": {
        "id": "LGnM-Jx9TzJW"
      }
    },
    {
      "cell_type": "code",
      "source": [
        "np.identity(2)"
      ],
      "metadata": {
        "id": "pLW06V0BT8Rk",
        "outputId": "30796f5e-8434-469d-aa90-379ca96e9404",
        "colab": {
          "base_uri": "https://localhost:8080/"
        }
      },
      "execution_count": null,
      "outputs": [
        {
          "output_type": "execute_result",
          "data": {
            "text/plain": [
              "array([[1., 0.],\n",
              "       [0., 1.]])"
            ]
          },
          "metadata": {},
          "execution_count": 32
        }
      ]
    },
    {
      "cell_type": "code",
      "source": [
        "np.identity(3, dtype=int)"
      ],
      "metadata": {
        "id": "RnWtBS2QUCss",
        "outputId": "5ccd2b4f-9609-47d3-854c-25fc7a33a647",
        "colab": {
          "base_uri": "https://localhost:8080/"
        }
      },
      "execution_count": null,
      "outputs": [
        {
          "output_type": "execute_result",
          "data": {
            "text/plain": [
              "array([[1, 0, 0],\n",
              "       [0, 1, 0],\n",
              "       [0, 0, 1]])"
            ]
          },
          "metadata": {},
          "execution_count": 33
        }
      ]
    },
    {
      "cell_type": "markdown",
      "source": [
        "###5) Numpy.eye\n",
        "\n",
        "대각선에 1이 있고 다른 곳에 0이 있는 2-D 배열을 반환합니다."
      ],
      "metadata": {
        "id": "Hjg_ku0NUDI0"
      }
    },
    {
      "cell_type": "code",
      "source": [
        "np.eye(3)"
      ],
      "metadata": {
        "id": "cV2sH0j_WuhV",
        "outputId": "54f6265d-711f-4acb-9177-e183e903d405",
        "colab": {
          "base_uri": "https://localhost:8080/"
        }
      },
      "execution_count": null,
      "outputs": [
        {
          "output_type": "execute_result",
          "data": {
            "text/plain": [
              "array([[1., 0., 0.],\n",
              "       [0., 1., 0.],\n",
              "       [0., 0., 1.]])"
            ]
          },
          "metadata": {},
          "execution_count": 35
        }
      ]
    },
    {
      "cell_type": "code",
      "source": [
        "np.eye(3,4)"
      ],
      "metadata": {
        "id": "CYFHrHU4W76E",
        "outputId": "0533d5ba-96c1-43e6-ae5f-6b8b01dbe5c9",
        "colab": {
          "base_uri": "https://localhost:8080/"
        }
      },
      "execution_count": null,
      "outputs": [
        {
          "output_type": "execute_result",
          "data": {
            "text/plain": [
              "array([[1., 0., 0., 0.],\n",
              "       [0., 1., 0., 0.],\n",
              "       [0., 0., 1., 0.]])"
            ]
          },
          "metadata": {},
          "execution_count": 36
        }
      ]
    },
    {
      "cell_type": "code",
      "source": [
        "np.eye(3,4,1)"
      ],
      "metadata": {
        "id": "Ia31haPjW9lz",
        "outputId": "19c154b8-d9ca-40a3-851f-57a85792bd3e",
        "colab": {
          "base_uri": "https://localhost:8080/"
        }
      },
      "execution_count": null,
      "outputs": [
        {
          "output_type": "execute_result",
          "data": {
            "text/plain": [
              "array([[0., 1., 0., 0.],\n",
              "       [0., 0., 1., 0.],\n",
              "       [0., 0., 0., 1.]])"
            ]
          },
          "metadata": {},
          "execution_count": 37
        }
      ]
    },
    {
      "cell_type": "code",
      "source": [
        "np.eye(3,4,-1)"
      ],
      "metadata": {
        "id": "p6xjrrCkW-1E",
        "outputId": "6742fb19-52f3-4982-83cd-6e7f4e325084",
        "colab": {
          "base_uri": "https://localhost:8080/"
        }
      },
      "execution_count": null,
      "outputs": [
        {
          "output_type": "execute_result",
          "data": {
            "text/plain": [
              "array([[0., 0., 0., 0.],\n",
              "       [1., 0., 0., 0.],\n",
              "       [0., 1., 0., 0.]])"
            ]
          },
          "metadata": {},
          "execution_count": 38
        }
      ]
    },
    {
      "cell_type": "markdown",
      "source": [
        "###6) Numpy.full\n",
        "지정된 값으로 채워진 지정된 형상 및 유형의 새 배열을 반환합니다."
      ],
      "metadata": {
        "id": "SdJZu9vgW_Tj"
      }
    },
    {
      "cell_type": "code",
      "source": [
        "np.full((2,3), 10)"
      ],
      "metadata": {
        "id": "R48XLBdHbxnB",
        "outputId": "0ea2b247-6652-4886-8636-b6ba13e6bcc6",
        "colab": {
          "base_uri": "https://localhost:8080/"
        }
      },
      "execution_count": null,
      "outputs": [
        {
          "output_type": "execute_result",
          "data": {
            "text/plain": [
              "array([[10, 10, 10],\n",
              "       [10, 10, 10]])"
            ]
          },
          "metadata": {},
          "execution_count": 39
        }
      ]
    },
    {
      "cell_type": "code",
      "source": [
        "10 * np.ones((2,3), dtype=int)"
      ],
      "metadata": {
        "id": "BZAZ0INlW6sE",
        "outputId": "a9d63c81-4a30-4bb6-fd7a-c53fbaa4b3b2",
        "colab": {
          "base_uri": "https://localhost:8080/"
        }
      },
      "execution_count": null,
      "outputs": [
        {
          "output_type": "execute_result",
          "data": {
            "text/plain": [
              "array([[10, 10, 10],\n",
              "       [10, 10, 10]])"
            ]
          },
          "metadata": {},
          "execution_count": 40
        }
      ]
    },
    {
      "cell_type": "markdown",
      "source": [
        "###7) Numpy.arange\n",
        "지정된 간격 내에 일정한 간격으로 값을 반환합니다."
      ],
      "metadata": {
        "id": "ofq9Wfl1b8W4"
      }
    },
    {
      "cell_type": "code",
      "source": [
        "np.arange(10)"
      ],
      "metadata": {
        "id": "EE-0ZYUjcCfJ",
        "outputId": "903be61f-44b6-48cf-baf6-373307d2c79e",
        "colab": {
          "base_uri": "https://localhost:8080/"
        }
      },
      "execution_count": null,
      "outputs": [
        {
          "output_type": "execute_result",
          "data": {
            "text/plain": [
              "array([0, 1, 2, 3, 4, 5, 6, 7, 8, 9])"
            ]
          },
          "metadata": {},
          "execution_count": 41
        }
      ]
    },
    {
      "cell_type": "code",
      "source": [
        "np.arange(start=1.0, stop=5.0, step=0.5)"
      ],
      "metadata": {
        "id": "K-anlHU1cGkH",
        "outputId": "f1df8517-9335-4339-dd84-8c019bc6ae29",
        "colab": {
          "base_uri": "https://localhost:8080/"
        }
      },
      "execution_count": null,
      "outputs": [
        {
          "output_type": "execute_result",
          "data": {
            "text/plain": [
              "array([1. , 1.5, 2. , 2.5, 3. , 3.5, 4. , 4.5])"
            ]
          },
          "metadata": {},
          "execution_count": 43
        }
      ]
    },
    {
      "cell_type": "markdown",
      "source": [
        "###8) Numpy.linspace\n",
        "지정된 간격 동안 일정한 간격으로 숫자를 반환합니다."
      ],
      "metadata": {
        "id": "7mF7xIHAcNBv"
      }
    },
    {
      "cell_type": "code",
      "source": [
        "np.linspace(2.0, 3.0, num=5)"
      ],
      "metadata": {
        "id": "ji_FTrwWcUSl",
        "outputId": "b1a755cd-8f04-4251-fe01-3d4bfdb965d7",
        "colab": {
          "base_uri": "https://localhost:8080/"
        }
      },
      "execution_count": null,
      "outputs": [
        {
          "output_type": "execute_result",
          "data": {
            "text/plain": [
              "array([2.  , 2.25, 2.5 , 2.75, 3.  ])"
            ]
          },
          "metadata": {},
          "execution_count": 44
        }
      ]
    },
    {
      "cell_type": "markdown",
      "source": [
        "#문제1"
      ],
      "metadata": {
        "id": "BM6F_FQDcK1u"
      }
    },
    {
      "cell_type": "markdown",
      "source": [
        "##문제 1 \n",
        "2*2 integers 다차원 배열을 초기화 하지 않은 상태로 생성하세요 \n",
        "\n"
      ],
      "metadata": {
        "id": "KITHRzDne6mP"
      }
    },
    {
      "cell_type": "markdown",
      "source": [
        "##문제 2\n",
        "x=np.array( [ [1,2,3],[4,5,6] ], dtype=np.int32) 일때 x와 동일한 shape를 가지는 다차원 배열을 초기화 하지 않은 상태로 생성하세요"
      ],
      "metadata": {
        "id": "LotHbNjifGI1"
      }
    },
    {
      "cell_type": "markdown",
      "source": [
        "##문제 3\n",
        "크기가 3인 단위 행렬을 생성하세요"
      ],
      "metadata": {
        "id": "A5qIloqqfI2l"
      }
    },
    {
      "cell_type": "markdown",
      "source": [
        "##문제 4\n",
        "모든 원소가 1로 채워진 3*2 실수형 다차원 배열을 생성하세요"
      ],
      "metadata": {
        "id": "IgTuJSInfO01"
      }
    },
    {
      "cell_type": "markdown",
      "source": [
        "##문제 5\n",
        "x=np.arange(4, dtype=np.int64) 일때 x 와 동일한 shape를 가지고 모든 원소가 1인 다차원 배열을 생성하세요 \n"
      ],
      "metadata": {
        "id": "ZDDoVkEvfRS8"
      }
    },
    {
      "cell_type": "markdown",
      "source": [
        "##문제 6\n",
        "모든 원소가 0으로 채워진 3*2 실수형 다차원 배열을 생성하세요\n"
      ],
      "metadata": {
        "id": "5MoJheZpfTtL"
      }
    },
    {
      "cell_type": "markdown",
      "source": [
        "##문제 7\n",
        "x = np.arange(4, dtype=np.int64) 일때 x와 동일한 shape 의 영행렬을 생성하세요\n"
      ],
      "metadata": {
        "id": "JCgJUtGUfXl0"
      }
    },
    {
      "cell_type": "markdown",
      "source": [
        "##문제 8\n",
        "모든 원소가 6으로 채워진 2*5 uint(부호가 없는 정수) 다차원 배열을 생성하세요"
      ],
      "metadata": {
        "id": "7wjrRSdMfZy6"
      }
    },
    {
      "cell_type": "markdown",
      "source": [
        "##문제 9\n",
        "x=np.arange(4, dtype=np.int64) 일때 x와 동일한 shape이고 모든 원소가 6인 다차원 배열을 생성하세요\n"
      ],
      "metadata": {
        "id": "AGKlMrpsfcMb"
      }
    },
    {
      "cell_type": "markdown",
      "source": [
        "##문제 10\n",
        "[1,2,3] 배열을 생성하세요\n"
      ],
      "metadata": {
        "id": "gy7ceZVvfeyq"
      }
    },
    {
      "cell_type": "markdown",
      "source": [
        "##문제 11\n",
        "x=[1.2] 일때 (python list 상태) x를 배열로 변환하세요\n",
        "\n"
      ],
      "metadata": {
        "id": "juXwNdnjfiBq"
      }
    },
    {
      "cell_type": "markdown",
      "source": [
        "##문제 12\n",
        "x=[1,2] 일 때 (python list 상태) 일때 x를 float 형 배열로 변환하세요 \n"
      ],
      "metadata": {
        "id": "rOwBZbjNflpI"
      }
    },
    {
      "cell_type": "markdown",
      "source": [
        "##문제 13\n",
        "2,4,6,8,10 …. 100 을 원소를 가지는 배열을 생성하세요\n",
        "\n",
        "\n"
      ],
      "metadata": {
        "id": "46qen4SZfoFi"
      }
    },
    {
      "cell_type": "markdown",
      "source": [
        "##문제 14\n",
        "3.0에서 10.0 까지 50개의 원소가 균일하게 분포된 1차원 배열을 생성하세요"
      ],
      "metadata": {
        "id": "QwkAqsHWfqCg"
      }
    },
    {
      "cell_type": "markdown",
      "source": [
        "# 3장 메서드를 사용한 통계값 구하기"
      ],
      "metadata": {
        "id": "kEbAFtk-LTHE"
      }
    },
    {
      "cell_type": "markdown",
      "source": [
        "##1\\. 다차원 배열 다루기1\n",
        "\n",
        "통계값을 구하는 함수에 대해 알아보자.\n",
        "이제 반복문은 사용하지 않는다.\n",
        "\t\n",
        "https://docs.scipy.org/doc/numpy/reference/routines.statistics.html"
      ],
      "metadata": {
        "id": "SjkXVHngkzVN"
      }
    },
    {
      "cell_type": "markdown",
      "source": [
        "![image.png](data:image/png;base64,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)"
      ],
      "metadata": {
        "id": "x6E3X3t9lBUU"
      }
    },
    {
      "cell_type": "markdown",
      "source": [
        "###1) Numpy.amin  (Array minimum)\n",
        "배열의 최소값 또는 축을 따라 최소값을 반환합니다."
      ],
      "metadata": {
        "id": "JQWleINIlQno"
      }
    },
    {
      "cell_type": "code",
      "source": [
        "a = np.array( [ [1,2,3], [4,5,6], [7,8,9] ])\n",
        "\n",
        "np.amin(a, 0)\n",
        "#np.amin(a, axis=0)"
      ],
      "metadata": {
        "id": "j93-5ByVlbKH",
        "outputId": "f2c33415-1f49-48e4-a4c5-90624b9a00a6",
        "colab": {
          "base_uri": "https://localhost:8080/"
        }
      },
      "execution_count": null,
      "outputs": [
        {
          "output_type": "execute_result",
          "data": {
            "text/plain": [
              "array([1, 2, 3])"
            ]
          },
          "metadata": {},
          "execution_count": 48
        }
      ]
    },
    {
      "cell_type": "code",
      "source": [
        "np.amin(a,1)\n",
        "#np.amin(a, axis=1)"
      ],
      "metadata": {
        "id": "0XiFqrz1lvS8",
        "outputId": "7c64b149-0e4e-47db-e4f8-ea6b78f2fc6e",
        "colab": {
          "base_uri": "https://localhost:8080/"
        }
      },
      "execution_count": null,
      "outputs": [
        {
          "output_type": "execute_result",
          "data": {
            "text/plain": [
              "array([1, 4, 7])"
            ]
          },
          "metadata": {},
          "execution_count": 49
        }
      ]
    },
    {
      "cell_type": "code",
      "source": [
        "np.amin(a)"
      ],
      "metadata": {
        "id": "LDcI6mTblx0z",
        "outputId": "fa1db857-9914-47a9-f38a-045d3f7d622c",
        "colab": {
          "base_uri": "https://localhost:8080/"
        }
      },
      "execution_count": null,
      "outputs": [
        {
          "output_type": "execute_result",
          "data": {
            "text/plain": [
              "1"
            ]
          },
          "metadata": {},
          "execution_count": 50
        }
      ]
    },
    {
      "cell_type": "markdown",
      "source": [
        "###2) Numpy.amax \n",
        "배열의 최대값 또는 축을 따라 최대값을 반환합니다."
      ],
      "metadata": {
        "id": "oHNtMPSplyNF"
      }
    },
    {
      "cell_type": "code",
      "source": [
        "np.amax(a,0)\n",
        "#np.amax(a, axis=0)"
      ],
      "metadata": {
        "id": "7f_47D-Gl-Zi",
        "outputId": "2c6ce737-44a2-4271-9286-4ca69a8f39af",
        "colab": {
          "base_uri": "https://localhost:8080/"
        }
      },
      "execution_count": null,
      "outputs": [
        {
          "output_type": "execute_result",
          "data": {
            "text/plain": [
              "array([7, 8, 9])"
            ]
          },
          "metadata": {},
          "execution_count": 51
        }
      ]
    },
    {
      "cell_type": "code",
      "source": [
        "np.amax(a,1)\n",
        "#np.amax(a, axis=1)"
      ],
      "metadata": {
        "id": "Pc80izAPmJJq",
        "outputId": "5a5aacb4-8808-4431-8d65-02eeace5cb1c",
        "colab": {
          "base_uri": "https://localhost:8080/"
        }
      },
      "execution_count": null,
      "outputs": [
        {
          "output_type": "execute_result",
          "data": {
            "text/plain": [
              "array([3, 6, 9])"
            ]
          },
          "metadata": {},
          "execution_count": 52
        }
      ]
    },
    {
      "cell_type": "code",
      "source": [
        "np.amax(a)"
      ],
      "metadata": {
        "id": "v5NSrp3cmLES",
        "outputId": "7b820d25-b187-44ee-e618-a82538390d99",
        "colab": {
          "base_uri": "https://localhost:8080/"
        }
      },
      "execution_count": null,
      "outputs": [
        {
          "output_type": "execute_result",
          "data": {
            "text/plain": [
              "9"
            ]
          },
          "metadata": {},
          "execution_count": 53
        }
      ]
    },
    {
      "cell_type": "markdown",
      "source": [
        "###3) Numpy.ptp\n",
        "축을 따른 값의 범위(최대 - 최소)이다.\n",
        "이 함수의 이름은 '피크 투 피크'의 약자에서 유래했다."
      ],
      "metadata": {
        "id": "cJ591E47mLsJ"
      }
    },
    {
      "cell_type": "code",
      "source": [
        "a"
      ],
      "metadata": {
        "id": "Kv2MrSxqmaFn",
        "outputId": "d656e389-ae46-497c-8b3e-89c05e17b46f",
        "colab": {
          "base_uri": "https://localhost:8080/"
        }
      },
      "execution_count": null,
      "outputs": [
        {
          "output_type": "execute_result",
          "data": {
            "text/plain": [
              "array([[1, 2, 3],\n",
              "       [4, 5, 6],\n",
              "       [7, 8, 9]])"
            ]
          },
          "metadata": {},
          "execution_count": 54
        }
      ]
    },
    {
      "cell_type": "code",
      "source": [
        "np.ptp(a,0)"
      ],
      "metadata": {
        "id": "0fE6VurXmlRu",
        "outputId": "0025f7d2-3f0a-49f5-d173-b33159333421",
        "colab": {
          "base_uri": "https://localhost:8080/"
        }
      },
      "execution_count": null,
      "outputs": [
        {
          "output_type": "execute_result",
          "data": {
            "text/plain": [
              "array([6, 6, 6])"
            ]
          },
          "metadata": {},
          "execution_count": 55
        }
      ]
    },
    {
      "cell_type": "code",
      "source": [
        "np.ptp(a,1)"
      ],
      "metadata": {
        "id": "6YyY_4UimmYl",
        "outputId": "fa250e5c-db5e-4c0f-f67a-30e5975f538e",
        "colab": {
          "base_uri": "https://localhost:8080/"
        }
      },
      "execution_count": null,
      "outputs": [
        {
          "output_type": "execute_result",
          "data": {
            "text/plain": [
              "array([2, 2, 2])"
            ]
          },
          "metadata": {},
          "execution_count": 56
        }
      ]
    },
    {
      "cell_type": "code",
      "source": [
        "np.ptp(a)"
      ],
      "metadata": {
        "id": "zsgU5E1FmnaW",
        "outputId": "9941e382-c7b4-437c-e11f-b11d9aebebbf",
        "colab": {
          "base_uri": "https://localhost:8080/"
        }
      },
      "execution_count": null,
      "outputs": [
        {
          "output_type": "execute_result",
          "data": {
            "text/plain": [
              "8"
            ]
          },
          "metadata": {},
          "execution_count": 57
        }
      ]
    },
    {
      "cell_type": "markdown",
      "source": [
        "###4) Numpy.median\n",
        "지정된 축을 따라 중위수를 계산합니다.\n",
        "Median 은 중간값을 의미한다."
      ],
      "metadata": {
        "id": "Gx32g-ximoFd"
      }
    },
    {
      "cell_type": "code",
      "source": [
        "a"
      ],
      "metadata": {
        "id": "xmb_gYb1e5Oy",
        "outputId": "852e9bc4-4d74-4051-8591-f9b83109fd62",
        "colab": {
          "base_uri": "https://localhost:8080/"
        }
      },
      "execution_count": null,
      "outputs": [
        {
          "output_type": "execute_result",
          "data": {
            "text/plain": [
              "array([[1, 2, 3],\n",
              "       [4, 5, 6],\n",
              "       [7, 8, 9]])"
            ]
          },
          "metadata": {},
          "execution_count": 58
        }
      ]
    },
    {
      "cell_type": "code",
      "source": [
        "np.median(a,0 )"
      ],
      "metadata": {
        "id": "TTDKov4AfBQf",
        "outputId": "e60e1f17-e475-4d03-ce2f-c8a4489e94ea",
        "colab": {
          "base_uri": "https://localhost:8080/"
        }
      },
      "execution_count": null,
      "outputs": [
        {
          "output_type": "execute_result",
          "data": {
            "text/plain": [
              "array([4., 5., 6.])"
            ]
          },
          "metadata": {},
          "execution_count": 60
        }
      ]
    },
    {
      "cell_type": "code",
      "source": [
        "np.median(a,1)"
      ],
      "metadata": {
        "id": "7jg_8a2dfEHo",
        "outputId": "026a2d51-3693-4ac7-9a1d-bd53fdffd7a1",
        "colab": {
          "base_uri": "https://localhost:8080/"
        }
      },
      "execution_count": null,
      "outputs": [
        {
          "output_type": "execute_result",
          "data": {
            "text/plain": [
              "array([2., 5., 8.])"
            ]
          },
          "metadata": {},
          "execution_count": 61
        }
      ]
    },
    {
      "cell_type": "code",
      "source": [
        "np.median(a)"
      ],
      "metadata": {
        "id": "5IDQ7l6efJRX",
        "outputId": "e6be1574-c4e2-44fa-9b50-109c68876a02",
        "colab": {
          "base_uri": "https://localhost:8080/"
        }
      },
      "execution_count": null,
      "outputs": [
        {
          "output_type": "execute_result",
          "data": {
            "text/plain": [
              "5.0"
            ]
          },
          "metadata": {},
          "execution_count": 62
        }
      ]
    },
    {
      "cell_type": "markdown",
      "source": [
        "###5) Numpy.mean\n",
        "지정된 축을 따라 산술 평균을 계산합니다.\n",
        "\n"
      ],
      "metadata": {
        "id": "uKtKa_ygfCTX"
      }
    },
    {
      "cell_type": "code",
      "source": [
        "a"
      ],
      "metadata": {
        "id": "Rh2f96K4fYh-",
        "outputId": "12ca033b-dfcb-431e-a7ea-60540f567a1c",
        "colab": {
          "base_uri": "https://localhost:8080/"
        }
      },
      "execution_count": null,
      "outputs": [
        {
          "output_type": "execute_result",
          "data": {
            "text/plain": [
              "array([[1, 2, 3],\n",
              "       [4, 5, 6],\n",
              "       [7, 8, 9]])"
            ]
          },
          "metadata": {},
          "execution_count": 63
        }
      ]
    },
    {
      "cell_type": "code",
      "source": [
        "np.mean(a, 0)"
      ],
      "metadata": {
        "id": "guT2oXvHfdMN",
        "outputId": "20a9a289-4089-469e-e4c7-778b704089af",
        "colab": {
          "base_uri": "https://localhost:8080/"
        }
      },
      "execution_count": null,
      "outputs": [
        {
          "output_type": "execute_result",
          "data": {
            "text/plain": [
              "array([4., 5., 6.])"
            ]
          },
          "metadata": {},
          "execution_count": 64
        }
      ]
    },
    {
      "cell_type": "code",
      "source": [
        "np.mean(a,1)"
      ],
      "metadata": {
        "id": "0PASzhcefeqM",
        "outputId": "4f9971f6-f6b1-413d-f445-817fec6e8865",
        "colab": {
          "base_uri": "https://localhost:8080/"
        }
      },
      "execution_count": null,
      "outputs": [
        {
          "output_type": "execute_result",
          "data": {
            "text/plain": [
              "array([2., 5., 8.])"
            ]
          },
          "metadata": {},
          "execution_count": 65
        }
      ]
    },
    {
      "cell_type": "code",
      "source": [
        "np.mean(a)"
      ],
      "metadata": {
        "id": "fHNdOm0LffqE",
        "outputId": "0bf7c70f-dc15-4dca-f835-70d8a919b289",
        "colab": {
          "base_uri": "https://localhost:8080/"
        }
      },
      "execution_count": null,
      "outputs": [
        {
          "output_type": "execute_result",
          "data": {
            "text/plain": [
              "5.0"
            ]
          },
          "metadata": {},
          "execution_count": 66
        }
      ]
    },
    {
      "cell_type": "markdown",
      "source": [
        "###6) Numpy.var\n",
        "지정된 축을 따라 분산을 계산합니다."
      ],
      "metadata": {
        "id": "QtOWGznVfggU"
      }
    },
    {
      "cell_type": "code",
      "source": [
        "np.var(a, 0)"
      ],
      "metadata": {
        "id": "cC3pBjAufrmi",
        "outputId": "8ebfb76e-f443-4eb2-aa46-5a87660a82b9",
        "colab": {
          "base_uri": "https://localhost:8080/"
        }
      },
      "execution_count": null,
      "outputs": [
        {
          "output_type": "execute_result",
          "data": {
            "text/plain": [
              "array([6., 6., 6.])"
            ]
          },
          "metadata": {},
          "execution_count": 67
        }
      ]
    },
    {
      "cell_type": "code",
      "source": [
        "np.var(a,1)"
      ],
      "metadata": {
        "id": "3xxjfmpNfuf6",
        "outputId": "7d0289ac-021e-4853-99b7-c7a5a63b9077",
        "colab": {
          "base_uri": "https://localhost:8080/"
        }
      },
      "execution_count": null,
      "outputs": [
        {
          "output_type": "execute_result",
          "data": {
            "text/plain": [
              "array([0.66666667, 0.66666667, 0.66666667])"
            ]
          },
          "metadata": {},
          "execution_count": 68
        }
      ]
    },
    {
      "cell_type": "code",
      "source": [
        "np.var(a)"
      ],
      "metadata": {
        "id": "zjq-ByE1fv1u",
        "outputId": "7e5e0ba7-9a06-4220-9eb2-11602e96fbc5",
        "colab": {
          "base_uri": "https://localhost:8080/"
        }
      },
      "execution_count": null,
      "outputs": [
        {
          "output_type": "execute_result",
          "data": {
            "text/plain": [
              "6.666666666666667"
            ]
          },
          "metadata": {},
          "execution_count": 69
        }
      ]
    },
    {
      "cell_type": "markdown",
      "source": [
        "###7) Numpy.std\n",
        "지정된 축을 따라 표준 편차를 계산합니다."
      ],
      "metadata": {
        "id": "cEepTUzCfzBe"
      }
    },
    {
      "cell_type": "code",
      "source": [
        "np.std(a, 0)"
      ],
      "metadata": {
        "id": "PtIC9PA_gAkj",
        "outputId": "72a82911-fe41-47d6-80d7-acb6e2917ec1",
        "colab": {
          "base_uri": "https://localhost:8080/"
        }
      },
      "execution_count": null,
      "outputs": [
        {
          "output_type": "execute_result",
          "data": {
            "text/plain": [
              "array([2.44948974, 2.44948974, 2.44948974])"
            ]
          },
          "metadata": {},
          "execution_count": 70
        }
      ]
    },
    {
      "cell_type": "code",
      "source": [
        "np.std(a, 1)"
      ],
      "metadata": {
        "id": "TiVQC5BdgDiL",
        "outputId": "e60359e9-2ae8-4605-aa7c-2fd11a200fa0",
        "colab": {
          "base_uri": "https://localhost:8080/"
        }
      },
      "execution_count": null,
      "outputs": [
        {
          "output_type": "execute_result",
          "data": {
            "text/plain": [
              "array([0.81649658, 0.81649658, 0.81649658])"
            ]
          },
          "metadata": {},
          "execution_count": 71
        }
      ]
    },
    {
      "cell_type": "code",
      "source": [
        "np.std(a)"
      ],
      "metadata": {
        "id": "YSPZnpvNgEcM",
        "outputId": "a0f17711-7009-4415-b458-35ac710d14db",
        "colab": {
          "base_uri": "https://localhost:8080/"
        }
      },
      "execution_count": null,
      "outputs": [
        {
          "output_type": "execute_result",
          "data": {
            "text/plain": [
              "2.581988897471611"
            ]
          },
          "metadata": {},
          "execution_count": 72
        }
      ]
    },
    {
      "cell_type": "markdown",
      "source": [
        "# 4장 다차원 배열 형태 변경하기"
      ],
      "metadata": {
        "id": "9_UGocy6Ld24"
      }
    },
    {
      "cell_type": "markdown",
      "source": [
        "# 5장 NumPy 고급기능"
      ],
      "metadata": {
        "id": "kajM1UNsLmXC"
      }
    },
    {
      "cell_type": "markdown",
      "source": [
        ""
      ],
      "metadata": {
        "id": "LEwUg_EIsKh-"
      }
    },
    {
      "cell_type": "markdown",
      "source": [
        ""
      ],
      "metadata": {
        "id": "6OEVepFpstAv"
      }
    }
  ]
}